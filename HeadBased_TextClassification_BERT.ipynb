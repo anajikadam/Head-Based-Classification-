{
  "cells": [
    {
      "cell_type": "markdown",
      "metadata": {
        "id": "view-in-github",
        "colab_type": "text"
      },
      "source": [
        "<a href=\"https://colab.research.google.com/github/anajikadam/Head-Based-Classification-/blob/main/HeadBased_TextClassification_BERT.ipynb\" target=\"_parent\"><img src=\"https://colab.research.google.com/assets/colab-badge.svg\" alt=\"Open In Colab\"/></a>"
      ]
    },
    {
      "cell_type": "markdown",
      "id": "cb7f96b1-5968-4d2e-ae91-c932001b01f3",
      "metadata": {
        "id": "cb7f96b1-5968-4d2e-ae91-c932001b01f3"
      },
      "source": [
        "# Head-based Text Classification with BERT\n"
      ]
    },
    {
      "cell_type": "markdown",
      "id": "-7LUMoNTb3PX",
      "metadata": {
        "id": "-7LUMoNTb3PX"
      },
      "source": [
        "<!-- https://freedium.cfd/https://medium.com/@hugmanskj/hands-on-head-based-text-classification-with-bert-0a1775d5db9d -->"
      ]
    },
    {
      "cell_type": "markdown",
      "id": "OlfhvQpPJl-M",
      "metadata": {
        "id": "OlfhvQpPJl-M"
      },
      "source": [
        "## **head-based** classification in natural language processing (NLP) tasks\n",
        "\n",
        " In NLP, tasks such as sentence or document classification are pivotal for a wide range of applications, from sentiment analysis to topic detection.\n",
        "\n",
        "## What is Head-Based Classification?\n",
        "Head-based classification involves appending a \"head\" (a layer or set of layers of a neural network) to a pre-trained model to carry out a specific task, such as classifying the topics of texts. In this scenario, the \"head\" is optimized to output predictions for the classification task, effectively leveraging the rich representations learned by the network from ample data to adeptly address the problem at hand - in this case, classification.\n",
        "By employing a head-based approach, we can fine-tune the pre-trained model on a relatively small dataset tailored to our specific task, making this method highly versatile and applicable across a wide range of natural language processing (NLP) challenges."
      ]
    },
    {
      "cell_type": "markdown",
      "source": [
        "head-based classification means adding a specialized layer or set of layers to a pre-trained model to help it classify things. Imagine you have a smart brain that knows a lot about many things. Now, you add a new section to this brain that specifically helps it decide and classify different topics. This new section, or \"head,\" takes advantage of what the brain already knows to make accurate guesses about new topics it sees. It's like giving the brain a new skill without having to teach it everything from scratch."
      ],
      "metadata": {
        "id": "1vxeZEuPmR6m"
      },
      "id": "1vxeZEuPmR6m"
    },
    {
      "cell_type": "markdown",
      "id": "9rBgCmFpKe_y",
      "metadata": {
        "id": "9rBgCmFpKe_y"
      },
      "source": [
        "### Head-Based Classification with BERT and the `[CLS]` Token\n",
        "\n",
        "In the BERT model, the [CLS] token plays a pivotal role in sequence-level tasks such as classification. This section will provide a step-by-step explanation of the interaction between the [CLS] token and the classification head.\n",
        "\n",
        "1. **Pre-trained BERT Initialization:** Begin by preparing a BERT model that has been pre-trained on extensive text corpora, typically downloaded using tools like Hugging Face. This model already possesses the capability to understand language to a certain extent, including grammar, context, and semantics across a broad domain.\n",
        "\n",
        "2. **Adding the [CLS] Token:** For each input sequence, a [CLS] token is added at the beginning. In standard BERT usage, initiating the tokenizer automatically adds a [CLS] dummy token at the forefront of the returned sequence. The hidden states corresponding to this [CLS] token, as the sequence passes through BERT's layers, aggregate contextual information from the input, condensing the entire sequence into a succinct vector representation.\n",
        "\n",
        "3. **Designing the Classification Head:** The vector corresponding to the [CLS] token's position from the top layer of BERT is extracted and connected to the classification head. This head is typically a simple neural network culminating in a softmax layer, mapping the rich representation of the [CLS] token to specific class labels.\n",
        "\n",
        "4. **Fine-Tuning:** The combined model, consisting of BERT and the classification head, is fine-tuned on a dataset tailored to the specific classification task. This stage optimizes both the parameters of BERT and the classification head to ensure optimal performance for the intended application."
      ]
    },
    {
      "cell_type": "markdown",
      "id": "W2N1rw04d-pE",
      "metadata": {
        "id": "W2N1rw04d-pE"
      },
      "source": [
        "<img src=\"https://www.dropbox.com/scl/fi/xj5ms31eas7kknmqotzp1/head_classification_bert.png?rlkey=1dc5ip0a6pz1tm0jsq8wqvkf1&dl=1\" width=\"500px\"></img>"
      ]
    },
    {
      "cell_type": "markdown",
      "id": "8eS7Ep-4LaE_",
      "metadata": {
        "id": "8eS7Ep-4LaE_"
      },
      "source": [
        "## Preview of Implementations\n",
        "\n",
        "### Topic Classification with BERT on AG News Dataset\n",
        "\n",
        "**Objective:**  \n",
        "- Train a BERT model for topic classification using the AG News dataset, part of the GLUE benchmark.\n",
        "- Evaluate model performance using metrics like accuracy, precision, recall, and F1 score, and visualize the results with a confusion matrix.\n",
        "\n",
        "**Dataset:**  \n",
        "- The AG News dataset, which is included in the GLUE benchmark, consists of news articles divided into four categories, providing a rich dataset for classification.\n",
        "\n",
        "**Tools and Libraries:**  \n",
        "- **PyTorch**: Utilized for model training, evaluation, and inference processes.\n",
        "- **Transformers Library**: Provides access to pre-trained BERT models, facilitating the use of advanced NLP techniques.\n",
        "\n",
        "**Model Design:**  \n",
        "- The core of our implementation will utilize a pre-trained BERT model from the Transformers library. A classification head will be added on top of BERT to adapt it to our topic classification task, reflecting the four categories in the AG News dataset.\n",
        "\n",
        "**Training Loop:**  \n",
        "- The training process involves fine-tuning the pre-trained BERT model with our dataset.\n",
        "- The loop will also include evaluation phases to monitor the model's performance on a validation set, helping us to fine-tune hyperparameters and prevent overfitting.\n",
        "\n",
        "**Evaluation Metrics:**  \n",
        "- Metrics such as accuracy, precision, recall, and F1 score will be used to evaluate the model's performance across the classification tasks.\n",
        "- Furthermore, we will analyze the results with a confusion matrix."
      ]
    },
    {
      "cell_type": "markdown",
      "id": "d1626d00-68d0-4760-9041-fa23bd8f2acd",
      "metadata": {
        "id": "d1626d00-68d0-4760-9041-fa23bd8f2acd"
      },
      "source": [
        "## Import Libraries\n",
        "Import necessary libraries for data loading, model building, training, and evaluation. This step is crucial because it prepares our environment with the necessary tools and libraries required for our specific task. It's like gathering all the ingredients before you start cooking."
      ]
    },
    {
      "cell_type": "code",
      "execution_count": 1,
      "id": "43297953-28ea-48b6-92d2-30a2b61aacfc",
      "metadata": {
        "colab": {
          "base_uri": "https://localhost:8080/"
        },
        "collapsed": true,
        "id": "43297953-28ea-48b6-92d2-30a2b61aacfc",
        "outputId": "c71710e7-89ef-4429-ce4b-4816d3fba367"
      },
      "outputs": [
        {
          "output_type": "stream",
          "name": "stdout",
          "text": [
            "Requirement already satisfied: accelerate in /usr/local/lib/python3.10/dist-packages (0.28.0)\n",
            "Collecting accelerate\n",
            "  Using cached accelerate-0.31.0-py3-none-any.whl (309 kB)\n",
            "Requirement already satisfied: numpy>=1.17 in /usr/local/lib/python3.10/dist-packages (from accelerate) (1.25.2)\n",
            "Requirement already satisfied: packaging>=20.0 in /usr/local/lib/python3.10/dist-packages (from accelerate) (24.1)\n",
            "Requirement already satisfied: psutil in /usr/local/lib/python3.10/dist-packages (from accelerate) (5.9.5)\n",
            "Requirement already satisfied: pyyaml in /usr/local/lib/python3.10/dist-packages (from accelerate) (6.0.1)\n",
            "Requirement already satisfied: torch>=1.10.0 in /usr/local/lib/python3.10/dist-packages (from accelerate) (2.3.0+cu121)\n",
            "Requirement already satisfied: huggingface-hub in /usr/local/lib/python3.10/dist-packages (from accelerate) (0.23.4)\n",
            "Requirement already satisfied: safetensors>=0.3.1 in /usr/local/lib/python3.10/dist-packages (from accelerate) (0.4.3)\n",
            "Requirement already satisfied: filelock in /usr/local/lib/python3.10/dist-packages (from torch>=1.10.0->accelerate) (3.15.3)\n",
            "Requirement already satisfied: typing-extensions>=4.8.0 in /usr/local/lib/python3.10/dist-packages (from torch>=1.10.0->accelerate) (4.12.2)\n",
            "Requirement already satisfied: sympy in /usr/local/lib/python3.10/dist-packages (from torch>=1.10.0->accelerate) (1.12.1)\n",
            "Requirement already satisfied: networkx in /usr/local/lib/python3.10/dist-packages (from torch>=1.10.0->accelerate) (3.3)\n",
            "Requirement already satisfied: jinja2 in /usr/local/lib/python3.10/dist-packages (from torch>=1.10.0->accelerate) (3.1.4)\n",
            "Requirement already satisfied: fsspec in /usr/local/lib/python3.10/dist-packages (from torch>=1.10.0->accelerate) (2023.6.0)\n",
            "Requirement already satisfied: nvidia-cuda-nvrtc-cu12==12.1.105 in /usr/local/lib/python3.10/dist-packages (from torch>=1.10.0->accelerate) (12.1.105)\n",
            "Requirement already satisfied: nvidia-cuda-runtime-cu12==12.1.105 in /usr/local/lib/python3.10/dist-packages (from torch>=1.10.0->accelerate) (12.1.105)\n",
            "Requirement already satisfied: nvidia-cuda-cupti-cu12==12.1.105 in /usr/local/lib/python3.10/dist-packages (from torch>=1.10.0->accelerate) (12.1.105)\n",
            "Requirement already satisfied: nvidia-cudnn-cu12==8.9.2.26 in /usr/local/lib/python3.10/dist-packages (from torch>=1.10.0->accelerate) (8.9.2.26)\n",
            "Requirement already satisfied: nvidia-cublas-cu12==12.1.3.1 in /usr/local/lib/python3.10/dist-packages (from torch>=1.10.0->accelerate) (12.1.3.1)\n",
            "Requirement already satisfied: nvidia-cufft-cu12==11.0.2.54 in /usr/local/lib/python3.10/dist-packages (from torch>=1.10.0->accelerate) (11.0.2.54)\n",
            "Requirement already satisfied: nvidia-curand-cu12==10.3.2.106 in /usr/local/lib/python3.10/dist-packages (from torch>=1.10.0->accelerate) (10.3.2.106)\n",
            "Requirement already satisfied: nvidia-cusolver-cu12==11.4.5.107 in /usr/local/lib/python3.10/dist-packages (from torch>=1.10.0->accelerate) (11.4.5.107)\n",
            "Requirement already satisfied: nvidia-cusparse-cu12==12.1.0.106 in /usr/local/lib/python3.10/dist-packages (from torch>=1.10.0->accelerate) (12.1.0.106)\n",
            "Requirement already satisfied: nvidia-nccl-cu12==2.20.5 in /usr/local/lib/python3.10/dist-packages (from torch>=1.10.0->accelerate) (2.20.5)\n",
            "Requirement already satisfied: nvidia-nvtx-cu12==12.1.105 in /usr/local/lib/python3.10/dist-packages (from torch>=1.10.0->accelerate) (12.1.105)\n",
            "Requirement already satisfied: triton==2.3.0 in /usr/local/lib/python3.10/dist-packages (from torch>=1.10.0->accelerate) (2.3.0)\n",
            "Requirement already satisfied: nvidia-nvjitlink-cu12 in /usr/local/lib/python3.10/dist-packages (from nvidia-cusolver-cu12==11.4.5.107->torch>=1.10.0->accelerate) (12.5.40)\n",
            "Requirement already satisfied: requests in /usr/local/lib/python3.10/dist-packages (from huggingface-hub->accelerate) (2.32.3)\n",
            "Requirement already satisfied: tqdm>=4.42.1 in /usr/local/lib/python3.10/dist-packages (from huggingface-hub->accelerate) (4.66.4)\n",
            "Requirement already satisfied: MarkupSafe>=2.0 in /usr/local/lib/python3.10/dist-packages (from jinja2->torch>=1.10.0->accelerate) (2.1.5)\n",
            "Requirement already satisfied: charset-normalizer<4,>=2 in /usr/local/lib/python3.10/dist-packages (from requests->huggingface-hub->accelerate) (3.3.2)\n",
            "Requirement already satisfied: idna<4,>=2.5 in /usr/local/lib/python3.10/dist-packages (from requests->huggingface-hub->accelerate) (3.7)\n",
            "Requirement already satisfied: urllib3<3,>=1.21.1 in /usr/local/lib/python3.10/dist-packages (from requests->huggingface-hub->accelerate) (2.0.7)\n",
            "Requirement already satisfied: certifi>=2017.4.17 in /usr/local/lib/python3.10/dist-packages (from requests->huggingface-hub->accelerate) (2024.6.2)\n",
            "Requirement already satisfied: mpmath<1.4.0,>=1.1.0 in /usr/local/lib/python3.10/dist-packages (from sympy->torch>=1.10.0->accelerate) (1.3.0)\n",
            "Installing collected packages: accelerate\n",
            "  Attempting uninstall: accelerate\n",
            "    Found existing installation: accelerate 0.28.0\n",
            "    Uninstalling accelerate-0.28.0:\n",
            "      Successfully uninstalled accelerate-0.28.0\n",
            "Successfully installed accelerate-0.31.0\n",
            "Requirement already satisfied: tensorboard in /usr/local/lib/python3.10/dist-packages (2.15.2)\n",
            "Requirement already satisfied: absl-py>=0.4 in /usr/local/lib/python3.10/dist-packages (from tensorboard) (1.4.0)\n",
            "Requirement already satisfied: grpcio>=1.48.2 in /usr/local/lib/python3.10/dist-packages (from tensorboard) (1.64.1)\n",
            "Requirement already satisfied: google-auth<3,>=1.6.3 in /usr/local/lib/python3.10/dist-packages (from tensorboard) (2.27.0)\n",
            "Requirement already satisfied: google-auth-oauthlib<2,>=0.5 in /usr/local/lib/python3.10/dist-packages (from tensorboard) (1.2.0)\n",
            "Requirement already satisfied: markdown>=2.6.8 in /usr/local/lib/python3.10/dist-packages (from tensorboard) (3.6)\n",
            "Requirement already satisfied: numpy>=1.12.0 in /usr/local/lib/python3.10/dist-packages (from tensorboard) (1.25.2)\n",
            "Requirement already satisfied: protobuf!=4.24.0,>=3.19.6 in /usr/local/lib/python3.10/dist-packages (from tensorboard) (3.20.3)\n",
            "Requirement already satisfied: requests<3,>=2.21.0 in /usr/local/lib/python3.10/dist-packages (from tensorboard) (2.32.3)\n",
            "Requirement already satisfied: setuptools>=41.0.0 in /usr/local/lib/python3.10/dist-packages (from tensorboard) (67.7.2)\n",
            "Requirement already satisfied: six>1.9 in /usr/local/lib/python3.10/dist-packages (from tensorboard) (1.16.0)\n",
            "Requirement already satisfied: tensorboard-data-server<0.8.0,>=0.7.0 in /usr/local/lib/python3.10/dist-packages (from tensorboard) (0.7.2)\n",
            "Requirement already satisfied: werkzeug>=1.0.1 in /usr/local/lib/python3.10/dist-packages (from tensorboard) (3.0.3)\n",
            "Requirement already satisfied: cachetools<6.0,>=2.0.0 in /usr/local/lib/python3.10/dist-packages (from google-auth<3,>=1.6.3->tensorboard) (5.3.3)\n",
            "Requirement already satisfied: pyasn1-modules>=0.2.1 in /usr/local/lib/python3.10/dist-packages (from google-auth<3,>=1.6.3->tensorboard) (0.4.0)\n",
            "Requirement already satisfied: rsa<5,>=3.1.4 in /usr/local/lib/python3.10/dist-packages (from google-auth<3,>=1.6.3->tensorboard) (4.9)\n",
            "Requirement already satisfied: requests-oauthlib>=0.7.0 in /usr/local/lib/python3.10/dist-packages (from google-auth-oauthlib<2,>=0.5->tensorboard) (1.3.1)\n",
            "Requirement already satisfied: charset-normalizer<4,>=2 in /usr/local/lib/python3.10/dist-packages (from requests<3,>=2.21.0->tensorboard) (3.3.2)\n",
            "Requirement already satisfied: idna<4,>=2.5 in /usr/local/lib/python3.10/dist-packages (from requests<3,>=2.21.0->tensorboard) (3.7)\n",
            "Requirement already satisfied: urllib3<3,>=1.21.1 in /usr/local/lib/python3.10/dist-packages (from requests<3,>=2.21.0->tensorboard) (2.0.7)\n",
            "Requirement already satisfied: certifi>=2017.4.17 in /usr/local/lib/python3.10/dist-packages (from requests<3,>=2.21.0->tensorboard) (2024.6.2)\n",
            "Requirement already satisfied: MarkupSafe>=2.1.1 in /usr/local/lib/python3.10/dist-packages (from werkzeug>=1.0.1->tensorboard) (2.1.5)\n",
            "Requirement already satisfied: pyasn1<0.7.0,>=0.4.6 in /usr/local/lib/python3.10/dist-packages (from pyasn1-modules>=0.2.1->google-auth<3,>=1.6.3->tensorboard) (0.6.0)\n",
            "Requirement already satisfied: oauthlib>=3.0.0 in /usr/local/lib/python3.10/dist-packages (from requests-oauthlib>=0.7.0->google-auth-oauthlib<2,>=0.5->tensorboard) (3.2.2)\n"
          ]
        }
      ],
      "source": [
        "!pip install -qqq seaborn # for evaluation visualization\n",
        "!pip install -qqq wandb   # for logging\n",
        "!pip install -qqq datasets # huggingface's lib.\n",
        "!pip install -qqq transformers==4.39.2\n",
        "!pip install -qqq accelerate==0.28.0\n",
        "!pip install -qqq shortuuid\n",
        "\n",
        "!pip install -U accelerate\n",
        "!pip install tensorboard"
      ]
    },
    {
      "cell_type": "code",
      "execution_count": 2,
      "id": "b06b3a77-46c5-4311-ab33-da87be985898",
      "metadata": {
        "id": "b06b3a77-46c5-4311-ab33-da87be985898"
      },
      "outputs": [],
      "source": [
        "from transformers import BertTokenizer, BertForSequenceClassification\n",
        "from transformers import Trainer, TrainingArguments\n",
        "from transformers import DataCollatorWithPadding\n",
        "from datasets import load_dataset\n",
        "import numpy as np\n",
        "from sklearn.metrics import accuracy_score, precision_recall_fscore_support, confusion_matrix\n",
        "import seaborn as sns\n",
        "import matplotlib.pyplot as plt\n",
        "import wandb\n",
        "import torch\n",
        "import random\n",
        "import os\n",
        "\n",
        "# Function to set the seed for reproducibility\n",
        "def set_seed(seed_value=42):\n",
        "    \"\"\"Set seed for reproducibility.\"\"\"\n",
        "    np.random.seed(seed_value)\n",
        "    torch.manual_seed(seed_value)\n",
        "    torch.cuda.manual_seed(seed_value)\n",
        "    torch.cuda.manual_seed_all(seed_value)  # if you are using multi-GPU.\n",
        "    random.seed(seed_value)\n",
        "    os.environ['PYTHONHASHSEED'] = str(seed_value)\n",
        "\n",
        "    # The below two lines are for deterministic algorithm behavior in CUDA\n",
        "    torch.backends.cudnn.deterministic = True\n",
        "    torch.backends.cudnn.benchmark = False\n",
        "\n",
        "# Set the seed\n",
        "set_seed()\n"
      ]
    },
    {
      "cell_type": "markdown",
      "id": "929d0b76-ba9a-4db2-b4cf-ff3e55aac093",
      "metadata": {
        "id": "929d0b76-ba9a-4db2-b4cf-ff3e55aac093"
      },
      "source": [
        "## Load Dataset\n",
        "\n",
        "The **AG News dataset** is widely used for topic classification tasks due to its well-balanced classes, diverse range of topics, and substantial size.\n",
        "\n",
        "For more details, visit the AG News dataset page: [AG News Dataset Information](https://huggingface.co/datasets/ag_news)\n",
        "\n"
      ]
    },
    {
      "cell_type": "code",
      "execution_count": 3,
      "id": "fb17c9a8-ec35-4818-b7f2-2a818bc6c26d",
      "metadata": {
        "colab": {
          "base_uri": "https://localhost:8080/"
        },
        "id": "fb17c9a8-ec35-4818-b7f2-2a818bc6c26d",
        "outputId": "6d1fc6d5-9bcd-46f3-841b-c0f0f0ccb129"
      },
      "outputs": [
        {
          "output_type": "stream",
          "name": "stdout",
          "text": [
            "DatasetDict({\n",
            "    train: Dataset({\n",
            "        features: ['text', 'label'],\n",
            "        num_rows: 120000\n",
            "    })\n",
            "    test: Dataset({\n",
            "        features: ['text', 'label'],\n",
            "        num_rows: 7600\n",
            "    })\n",
            "})\n"
          ]
        }
      ],
      "source": [
        "dataset = load_dataset(\"ag_news\")\n",
        "print(dataset)"
      ]
    },
    {
      "cell_type": "code",
      "execution_count": 6,
      "id": "1RY7_r0vRWzc",
      "metadata": {
        "colab": {
          "base_uri": "https://localhost:8080/"
        },
        "id": "1RY7_r0vRWzc",
        "outputId": "45ae8d7b-ad2c-42e7-8f12-9c58e8b4ce33"
      },
      "outputs": [
        {
          "output_type": "stream",
          "name": "stdout",
          "text": [
            "<class 'datasets.dataset_dict.DatasetDict'>\n"
          ]
        },
        {
          "output_type": "execute_result",
          "data": {
            "text/plain": [
              "DatasetDict({\n",
              "    train: Dataset({\n",
              "        features: ['text', 'label'],\n",
              "        num_rows: 36000\n",
              "    })\n",
              "    test: Dataset({\n",
              "        features: ['text', 'label'],\n",
              "        num_rows: 2280\n",
              "    })\n",
              "})"
            ]
          },
          "metadata": {},
          "execution_count": 6
        }
      ],
      "source": [
        "print(type(dataset))\n",
        "from datasets import DatasetDict\n",
        "\n",
        "test_size = 0.7\n",
        "\n",
        "# Taking 60% random samples from the 'train' and 'test' datasets\n",
        "train_sampled = dataset['train'].train_test_split(test_size=test_size, seed=42)['train']  #120000-(120000*0.7) = 36000.0\n",
        "test_sampled = dataset['test'].train_test_split(test_size=test_size, seed=42)['train']\n",
        "\n",
        "# Creating a new DatasetDict with the sampled datasets\n",
        "sampled_dataset = DatasetDict({\n",
        "    'train': train_sampled,\n",
        "    'test': test_sampled\n",
        "})\n",
        "\n",
        "sampled_dataset\n"
      ]
    },
    {
      "cell_type": "code",
      "execution_count": 7,
      "id": "TSbV7FULSG9x",
      "metadata": {
        "id": "TSbV7FULSG9x"
      },
      "outputs": [],
      "source": [
        "dataset = sampled_dataset"
      ]
    },
    {
      "cell_type": "code",
      "execution_count": 8,
      "id": "Sc33mmRuxpMK",
      "metadata": {
        "colab": {
          "base_uri": "https://localhost:8080/"
        },
        "id": "Sc33mmRuxpMK",
        "outputId": "c3386b2d-09c7-40dc-c171-60588c10966c"
      },
      "outputs": [
        {
          "output_type": "stream",
          "name": "stdout",
          "text": [
            "<class 'datasets.dataset_dict.DatasetDict'>\n",
            "DatasetDict({\n",
            "    train: Dataset({\n",
            "        features: ['text', 'label'],\n",
            "        num_rows: 36000\n",
            "    })\n",
            "    test: Dataset({\n",
            "        features: ['text', 'label'],\n",
            "        num_rows: 2280\n",
            "    })\n",
            "})\n",
            "\n",
            "\n",
            "Train dataset:\n",
            "{'label': 0,\n",
            " 'text': \"Bethlehem's Paradise Hotel Opens Doors (AP) AP - The floors are \"\n",
            "         'polished, a Christmas tree glitters near the bar and the dining room '\n",
            "         'is ready for hundreds of guests: The luxury Paradise Hotel is open '\n",
            "         'for business for the first time since the latest Palestinian '\n",
            "         'uprising erupted in 2000.'}\n"
          ]
        }
      ],
      "source": [
        "from pprint import pprint # Using Python's pprint (pretty-print) library to prevent long horizontal output and make the data more readable\n",
        "\n",
        "print(type(dataset)) # Data type\n",
        "print(dataset) # Data structure and count\n",
        "print(\"\\n\"*2+ \"Train dataset:\")\n",
        "pprint(dataset[\"train\"][1]) # Print to check the content of train data\n",
        "\n",
        "# Explanation of labels - 4 classes # https://huggingface.co/datasets/ag_news\n",
        "# 1 class: World news\n",
        "# 2 class: Sports news\n",
        "# 3 class: Business news\n",
        "# 4 class: Science/Technology news"
      ]
    },
    {
      "cell_type": "code",
      "source": [
        "from collections import Counter\n",
        "import matplotlib.pyplot as plt\n",
        "\n",
        "def plot_label_distribution(dataset, dataset_name):\n",
        "    # Count the occurrences of each label\n",
        "    label_counts = Counter(dataset['label'])\n",
        "\n",
        "    # Extract labels and their corresponding counts\n",
        "    labels, counts = zip(*label_counts.items())\n",
        "\n",
        "    # Plot the distribution\n",
        "    plt.figure(figsize=(10, 5))\n",
        "    plt.bar(labels, counts)\n",
        "    plt.xlabel('Labels')\n",
        "    plt.ylabel('Counts')\n",
        "    plt.title(f'Label Distribution in {dataset_name} Dataset')\n",
        "    plt.show()\n",
        "\n",
        "# Check label distribution in the sampled train and test datasets\n",
        "plot_label_distribution(dataset[\"train\"], 'Train')\n",
        "# plot_label_distribution(sampled_dataset_dict['test'], 'Test')\n"
      ],
      "metadata": {
        "colab": {
          "base_uri": "https://localhost:8080/",
          "height": 487
        },
        "id": "rvhaGT3_YtOf",
        "outputId": "f4b3b5f9-e4e0-4406-9855-d65cbfb6c59e"
      },
      "id": "rvhaGT3_YtOf",
      "execution_count": 10,
      "outputs": [
        {
          "output_type": "display_data",
          "data": {
            "text/plain": [
              "<Figure size 1000x500 with 1 Axes>"
            ],
            "image/png": "[encoded data removed]"
          },
          "metadata": {}
        }
      ]
    },
    {
      "cell_type": "markdown",
      "id": "23f57d57-111d-478d-8261-b26f249634fd",
      "metadata": {
        "id": "23f57d57-111d-478d-8261-b26f249634fd"
      },
      "source": [
        "### Initialize Tokenizer and Preprocess Data\n",
        "\n",
        "The tokenizer converts text into tokens that can be fed into the BERT model. This step is essential for preparing our data in a format that the model can understand.\n"
      ]
    },
    {
      "cell_type": "code",
      "execution_count": 11,
      "id": "989ccdcd-37ac-44a5-8a05-6898b0819e04",
      "metadata": {
        "colab": {
          "base_uri": "https://localhost:8080/",
          "height": 136,
          "referenced_widgets": [
            "86a9d6af703f49a4b260916e48cc5581",
            "099886c243684a43afffd965580be60f",
            "3d2f1358564147d9a16727ab62960fbc",
            "771d134abfb94083bbb09f4c7ae629d1",
            "8cac1aef62344d54ad390e9e9edd691e",
            "bff17e545a0748d5b30cd7bf46fe47d8",
            "d20fca95050044c7a7f097f53b16db22",
            "64bcda0cfcfe4a818c71316d26ff6b1f",
            "f3b664e7fa90484b994f536f0f2bf821",
            "d55b0aca2887433c819dbc95c487218b",
            "40bede16cf044a86b012141800fbf453",
            "77c9bed96fad4057969a89e9f014575b",
            "98448c41962844b09ec8303cf2af1000",
            "d69e3527f2c4423ea86aacf151675baa",
            "50a731f7f2a04f96a63452e906d2f61c",
            "d5acbf29fdf04397993b9a75b99f4cac",
            "e8d872dd0f21499385a5f63a6aa5b2ac",
            "d0cb7a09f5cb4a6a9f40d1a30e6b6c3c",
            "dd963cff56d345b1856991338baf93f1",
            "56bc8411368741d9a6c8a670e65f0866",
            "43c2129f78d64b36b50c8a2ed5fdec80",
            "991aeec6c0ed4674b752d3ffad3b9e1c"
          ]
        },
        "id": "989ccdcd-37ac-44a5-8a05-6898b0819e04",
        "outputId": "1746009f-e3e3-458a-9e60-f7271fbc13bd"
      },
      "outputs": [
        {
          "output_type": "stream",
          "name": "stderr",
          "text": [
            "/usr/local/lib/python3.10/dist-packages/huggingface_hub/file_download.py:1132: FutureWarning: `resume_download` is deprecated and will be removed in version 1.0.0. Downloads always resume when possible. If you want to force a new download, use `force_download=True`.\n",
            "  warnings.warn(\n"
          ]
        },
        {
          "output_type": "display_data",
          "data": {
            "text/plain": [
              "Map:   0%|          | 0/36000 [00:00<?, ? examples/s]"
            ],
            "application/vnd.jupyter.widget-view+json": {
              "version_major": 2,
              "version_minor": 0,
              "model_id": "86a9d6af703f49a4b260916e48cc5581"
            }
          },
          "metadata": {}
        },
        {
          "output_type": "display_data",
          "data": {
            "text/plain": [
              "Map:   0%|          | 0/2280 [00:00<?, ? examples/s]"
            ],
            "application/vnd.jupyter.widget-view+json": {
              "version_major": 2,
              "version_minor": 0,
              "model_id": "77c9bed96fad4057969a89e9f014575b"
            }
          },
          "metadata": {}
        }
      ],
      "source": [
        "pretrained_model = 'bert-base-uncased'\n",
        "\n",
        "tokenizer = BertTokenizer.from_pretrained(pretrained_model)\n",
        "\n",
        "def tokenize_function(examples):\n",
        "    return tokenizer(examples['text'], padding=True, truncation=True)\n",
        "\n",
        "tokenized_datasets = dataset.map(tokenize_function, batched=True)\n"
      ]
    },
    {
      "cell_type": "markdown",
      "id": "86d73fd7-55d9-4101-bd4e-86e28cd11242",
      "metadata": {
        "id": "86d73fd7-55d9-4101-bd4e-86e28cd11242"
      },
      "source": [
        "### Data Collator\n",
        "\n",
        "A data collator is responsible for batching together data samples. In this context, it ensures that all input sequences in a batch are padded to the same length, which is a requirement for processing by the BERT model.\n"
      ]
    },
    {
      "cell_type": "code",
      "execution_count": 12,
      "id": "966904b4-dc47-4a38-9fa6-7cdc61b87412",
      "metadata": {
        "id": "966904b4-dc47-4a38-9fa6-7cdc61b87412"
      },
      "outputs": [],
      "source": [
        "data_collator = DataCollatorWithPadding(tokenizer=tokenizer)"
      ]
    },
    {
      "cell_type": "markdown",
      "id": "1GBDp1haM7WP",
      "metadata": {
        "id": "1GBDp1haM7WP"
      },
      "source": [
        "### Data Handling Flow in Hugging Face\n",
        "In most cases, the flow in Hugging Face follows `dataset`→ `mapping function` → `data collator` → `data loader`.\n",
        "\n",
        "1. **dataset**: Manages data objects like the AG News dataset.\n",
        "2. **mapping function**: Implements functions to transform raw text into a format understandable by the model through tokenization and preprocessing, or other preprocessing functions. Usually, developers customize this according to their data.\n",
        "3. **data collator**: Essential for handling variable-length sequences, dynamically padding batches to ensure uniformity and facilitate smooth model input. Typically, Hugging Face provides data processing functionalities corresponding to the model type (e.g., Seq2Seq model, TokenClassification, Causual_LM, etc.), which are already implemented and distributed. Developers can also write their own if necessary.\n",
        "4. **data loader**: The final step that prepares data for the model by batching, shuffling, and creating an optimized iterable for training or evaluation.\n",
        "\n",
        "Following this flow for coding, developers can expect high code readability and reusability when utilizing different datasets or models, becoming familiar with this pattern.\n"
      ]
    },
    {
      "cell_type": "markdown",
      "id": "HyQ32tmjNOVO",
      "metadata": {
        "id": "HyQ32tmjNOVO"
      },
      "source": [
        "## Training\n",
        "\n",
        "With data ready, we'll proceed to the model's training phase, structured as follows:\n",
        "\n",
        "1. **Define Model**: Load BERT and attach a classification layer tailored to our topics.\n",
        "2. **Training Arguments**: Set parameters like epochs, batch size, and learning rate.\n",
        "3. **Training Loop**: Iterate over data, adjusting weights to improve topic classification accuracy.\n",
        "4. **Evaluation**: Test the model's performance on unseen data to ensure reliability.\n",
        "\n",
        "This streamlined approach prepares us for effective model training and evaluation.\n",
        "\n"
      ]
    },
    {
      "cell_type": "markdown",
      "id": "145a1d20-8c9c-49c7-a57b-e5ce6a0bb528",
      "metadata": {
        "id": "145a1d20-8c9c-49c7-a57b-e5ce6a0bb528"
      },
      "source": [
        "### Define Model\n",
        "\n",
        "Here we initialize the BERT model for sequence classification. The `num_labels=4` indicates that we are dealing with a classification problem with four possible outcomes, corresponding to the number of topics in the AG News dataset.\n"
      ]
    },
    {
      "cell_type": "code",
      "execution_count": 13,
      "id": "10d12971-5820-4af4-8840-238aac813bc9",
      "metadata": {
        "colab": {
          "base_uri": "https://localhost:8080/"
        },
        "id": "10d12971-5820-4af4-8840-238aac813bc9",
        "outputId": "c6665ac4-5e37-4954-ec5b-f5c0265f2e0c"
      },
      "outputs": [
        {
          "output_type": "stream",
          "name": "stderr",
          "text": [
            "Some weights of BertForSequenceClassification were not initialized from the model checkpoint at bert-base-uncased and are newly initialized: ['classifier.bias', 'classifier.weight']\n",
            "You should probably TRAIN this model on a down-stream task to be able to use it for predictions and inference.\n"
          ]
        }
      ],
      "source": [
        "model = BertForSequenceClassification.from_pretrained(pretrained_model, num_labels=4)"
      ]
    },
    {
      "cell_type": "markdown",
      "id": "759bb1bc-9353-4018-9c5c-082f79e3219e",
      "metadata": {
        "id": "759bb1bc-9353-4018-9c5c-082f79e3219e"
      },
      "source": [
        "### Training Arguments\n",
        "\n",
        "Training arguments define various parameters for the training process such as the number of epochs, batch size, learning rate adjustments, and where to save logs and outputs.\n"
      ]
    },
    {
      "cell_type": "code",
      "execution_count": 14,
      "id": "177b42e9-73cb-4ec8-a69c-8d138c59cdac",
      "metadata": {
        "id": "177b42e9-73cb-4ec8-a69c-8d138c59cdac"
      },
      "outputs": [],
      "source": [
        "training_args = TrainingArguments(\n",
        "    output_dir='./results-bert-topic-cls',\n",
        "    num_train_epochs=3,\n",
        "    per_device_train_batch_size=32,\n",
        "    per_device_eval_batch_size=8,\n",
        "    warmup_steps=500,\n",
        "    weight_decay=0.01,\n",
        "    logging_dir='./logs',\n",
        "\n",
        "    evaluation_strategy='epoch',  # Evaluate at the end of each epoch\n",
        "    logging_steps=10,\n",
        "    ## ----\n",
        "    report_to=\"tensorboard\",\n",
        ")"
      ]
    },
    {
      "cell_type": "markdown",
      "id": "b4c4745d-7ebc-4a32-a399-3fa1784b0c35",
      "metadata": {
        "id": "b4c4745d-7ebc-4a32-a399-3fa1784b0c35"
      },
      "source": [
        "### Training Loop and Evaluation\n",
        "Define a compute_metrics function for evaluation:"
      ]
    },
    {
      "cell_type": "code",
      "execution_count": 15,
      "id": "0919e998-b0a6-4b09-83f6-dedf94afc344",
      "metadata": {
        "id": "0919e998-b0a6-4b09-83f6-dedf94afc344"
      },
      "outputs": [],
      "source": [
        "def compute_metrics(p):\n",
        "    predictions, labels = p\n",
        "    predictions = np.argmax(predictions, axis=1)\n",
        "    precision, recall, f1, _ = precision_recall_fscore_support(labels, predictions, average='weighted')\n",
        "    acc = accuracy_score(labels, predictions)\n",
        "    return {'accuracy': acc, 'f1': f1, 'precision': precision, 'recall': recall}\n"
      ]
    },
    {
      "cell_type": "markdown",
      "id": "b1c9956f-c457-4779-9ed5-4529576cf742",
      "metadata": {
        "id": "b1c9956f-c457-4779-9ed5-4529576cf742"
      },
      "source": [
        "Initialize Trainer and train:"
      ]
    },
    {
      "cell_type": "code",
      "execution_count": 16,
      "id": "eb3547b0-118d-4d51-87a9-f8abaa446aa6",
      "metadata": {
        "colab": {
          "base_uri": "https://localhost:8080/"
        },
        "id": "eb3547b0-118d-4d51-87a9-f8abaa446aa6",
        "outputId": "f336b6d6-bf48-4950-c133-e7d64087491a"
      },
      "outputs": [
        {
          "output_type": "stream",
          "name": "stderr",
          "text": [
            "/usr/local/lib/python3.10/dist-packages/accelerate/accelerator.py:444: FutureWarning: Passing the following arguments to `Accelerator` is deprecated and will be removed in version 1.0 of Accelerate: dict_keys(['dispatch_batches', 'split_batches', 'even_batches', 'use_seedable_sampler']). Please pass an `accelerate.DataLoaderConfiguration` instead: \n",
            "dataloader_config = DataLoaderConfiguration(dispatch_batches=None, split_batches=False, even_batches=True, use_seedable_sampler=True)\n",
            "  warnings.warn(\n"
          ]
        }
      ],
      "source": [
        "# Select the first N samples from the tokenized training dataset\n",
        "subset_train_dataset = tokenized_datasets['train'].select(range(6000)) # 1/2 data for time saving\n",
        "\n",
        "trainer = Trainer(\n",
        "    model=model,\n",
        "    args=training_args,\n",
        "    train_dataset=subset_train_dataset,\n",
        "    eval_dataset=tokenized_datasets['test'],\n",
        "    data_collator=data_collator,\n",
        "    compute_metrics=compute_metrics,\n",
        ")"
      ]
    },
    {
      "cell_type": "code",
      "execution_count": null,
      "id": "wNgf6TftdlsE",
      "metadata": {
        "id": "wNgf6TftdlsE"
      },
      "outputs": [],
      "source": [
        "# %load_ext tensorboard\n",
        "# %tensorboard --logdir ./logs"
      ]
    },
    {
      "cell_type": "code",
      "execution_count": 17,
      "id": "cy9muAZ-TLLr",
      "metadata": {
        "id": "cy9muAZ-TLLr",
        "colab": {
          "base_uri": "https://localhost:8080/",
          "height": 204
        },
        "outputId": "6c1e8c68-c6a1-4e4e-90a4-dc37e7c43fb4"
      },
      "outputs": [
        {
          "output_type": "display_data",
          "data": {
            "text/plain": [
              "<IPython.core.display.HTML object>"
            ],
            "text/html": [
              "\n",
              "    <div>\n",
              "      \n",
              "      <progress value='564' max='564' style='width:300px; height:20px; vertical-align: middle;'></progress>\n",
              "      [564/564 18:34, Epoch 3/3]\n",
              "    </div>\n",
              "    <table border=\"1\" class=\"dataframe\">\n",
              "  <thead>\n",
              " <tr style=\"text-align: left;\">\n",
              "      <th>Epoch</th>\n",
              "      <th>Training Loss</th>\n",
              "      <th>Validation Loss</th>\n",
              "      <th>Accuracy</th>\n",
              "      <th>F1</th>\n",
              "      <th>Precision</th>\n",
              "      <th>Recall</th>\n",
              "    </tr>\n",
              "  </thead>\n",
              "  <tbody>\n",
              "    <tr>\n",
              "      <td>1</td>\n",
              "      <td>0.388800</td>\n",
              "      <td>0.323261</td>\n",
              "      <td>0.894298</td>\n",
              "      <td>0.893728</td>\n",
              "      <td>0.893642</td>\n",
              "      <td>0.894298</td>\n",
              "    </tr>\n",
              "    <tr>\n",
              "      <td>2</td>\n",
              "      <td>0.245600</td>\n",
              "      <td>0.297399</td>\n",
              "      <td>0.906140</td>\n",
              "      <td>0.905466</td>\n",
              "      <td>0.906239</td>\n",
              "      <td>0.906140</td>\n",
              "    </tr>\n",
              "    <tr>\n",
              "      <td>3</td>\n",
              "      <td>0.145600</td>\n",
              "      <td>0.305589</td>\n",
              "      <td>0.903509</td>\n",
              "      <td>0.903493</td>\n",
              "      <td>0.903787</td>\n",
              "      <td>0.903509</td>\n",
              "    </tr>\n",
              "  </tbody>\n",
              "</table><p>"
            ]
          },
          "metadata": {}
        },
        {
          "output_type": "execute_result",
          "data": {
            "text/plain": [
              "TrainOutput(global_step=564, training_loss=0.42304318836817506, metrics={'train_runtime': 1119.2237, 'train_samples_per_second': 16.083, 'train_steps_per_second': 0.504, 'total_flos': 3254577752424960.0, 'train_loss': 0.42304318836817506, 'epoch': 3.0})"
            ]
          },
          "metadata": {},
          "execution_count": 17
        }
      ],
      "source": [
        "trainer.train()"
      ]
    },
    {
      "cell_type": "markdown",
      "id": "JCe90yO7frXb",
      "metadata": {
        "id": "JCe90yO7frXb"
      },
      "source": [
        "For a quick learning demonstration, we've conducted training for only up to 3 epochs. Even without fine-tuning hyperparameters, we can observe that the training achieved approximately 90% accuracy."
      ]
    },
    {
      "cell_type": "markdown",
      "id": "00xxMsXEfuNR",
      "metadata": {
        "id": "00xxMsXEfuNR"
      },
      "source": [
        "### Saving the model\n",
        "\n",
        "We'll save the recently trained model and tokenizer. By saving them, we can easily use them later in a pipeline, which I'll explain further in the later."
      ]
    },
    {
      "cell_type": "code",
      "execution_count": 18,
      "id": "7b71d302-c4db-48ea-937b-abaac9861ce2",
      "metadata": {
        "id": "7b71d302-c4db-48ea-937b-abaac9861ce2",
        "colab": {
          "base_uri": "https://localhost:8080/"
        },
        "outputId": "5f838bfa-a293-4f57-9a36-5ed2d79131ed"
      },
      "outputs": [
        {
          "output_type": "execute_result",
          "data": {
            "text/plain": [
              "('./bert-topic-cls/tokenizer_config.json',\n",
              " './bert-topic-cls/special_tokens_map.json',\n",
              " './bert-topic-cls/vocab.txt',\n",
              " './bert-topic-cls/added_tokens.json')"
            ]
          },
          "metadata": {},
          "execution_count": 18
        }
      ],
      "source": [
        "# Specify the directory where you want to save your model\n",
        "output_dir = './bert-topic-cls'\n",
        "\n",
        "# Save the model\n",
        "model.save_pretrained(output_dir)\n",
        "# Save the tokenizer\n",
        "tokenizer.save_pretrained(output_dir)"
      ]
    },
    {
      "cell_type": "markdown",
      "id": "3f984643-9a95-4213-b507-d03e5ea89ce3",
      "metadata": {
        "id": "3f984643-9a95-4213-b507-d03e5ea89ce3"
      },
      "source": [
        "## Evaluation and Analysis\n",
        "After training, evaluate the model and plot the confusion matrix:"
      ]
    },
    {
      "cell_type": "code",
      "execution_count": 19,
      "id": "7f13dbd4-c64b-425d-9f69-1340a180835b",
      "metadata": {
        "id": "7f13dbd4-c64b-425d-9f69-1340a180835b",
        "colab": {
          "base_uri": "https://localhost:8080/",
          "height": 37
        },
        "outputId": "146c17b3-05cb-4955-eee7-49cf5d953a88"
      },
      "outputs": [
        {
          "output_type": "display_data",
          "data": {
            "text/plain": [
              "<IPython.core.display.HTML object>"
            ],
            "text/html": [
              "\n",
              "    <div>\n",
              "      \n",
              "      <progress value='285' max='285' style='width:300px; height:20px; vertical-align: middle;'></progress>\n",
              "      [285/285 00:36]\n",
              "    </div>\n",
              "    "
            ]
          },
          "metadata": {}
        }
      ],
      "source": [
        "# Evaluate the model\n",
        "results = trainer.evaluate()"
      ]
    },
    {
      "cell_type": "code",
      "execution_count": 20,
      "id": "mvTjsOI-6NwG",
      "metadata": {
        "id": "mvTjsOI-6NwG",
        "colab": {
          "base_uri": "https://localhost:8080/"
        },
        "outputId": "fa990bf5-916a-4f42-a6da-ddb4a2badf31"
      },
      "outputs": [
        {
          "output_type": "execute_result",
          "data": {
            "text/plain": [
              "{'eval_loss': 0.305588960647583,\n",
              " 'eval_accuracy': 0.9035087719298246,\n",
              " 'eval_f1': 0.9034926807767162,\n",
              " 'eval_precision': 0.903787268678506,\n",
              " 'eval_recall': 0.9035087719298246,\n",
              " 'eval_runtime': 36.8454,\n",
              " 'eval_samples_per_second': 61.88,\n",
              " 'eval_steps_per_second': 7.735,\n",
              " 'epoch': 3.0}"
            ]
          },
          "metadata": {},
          "execution_count": 20
        }
      ],
      "source": [
        "results"
      ]
    },
    {
      "cell_type": "code",
      "execution_count": 21,
      "id": "9f4ad069-01b6-4083-875f-e7cb0105dfbd",
      "metadata": {
        "id": "9f4ad069-01b6-4083-875f-e7cb0105dfbd",
        "colab": {
          "base_uri": "https://localhost:8080/",
          "height": 17
        },
        "outputId": "f7943ce6-adc5-4e5d-f9f5-23f078a496ba"
      },
      "outputs": [
        {
          "output_type": "display_data",
          "data": {
            "text/plain": [
              "<IPython.core.display.HTML object>"
            ],
            "text/html": []
          },
          "metadata": {}
        }
      ],
      "source": [
        "# Predictions to get the confusion matrix\n",
        "predictions = trainer.predict(tokenized_datasets['test'])\n",
        "preds = np.argmax(predictions.predictions, axis=-1)"
      ]
    },
    {
      "cell_type": "code",
      "execution_count": 22,
      "id": "KLxAlHKNBZVP",
      "metadata": {
        "id": "KLxAlHKNBZVP",
        "colab": {
          "base_uri": "https://localhost:8080/",
          "height": 472
        },
        "outputId": "0aba0220-0b55-43cc-9a17-86195fbb1572"
      },
      "outputs": [
        {
          "output_type": "display_data",
          "data": {
            "text/plain": [
              "<Figure size 640x480 with 2 Axes>"
            ],
            "image/png": "[encoded data removed]"
          },
          "metadata": {}
        }
      ],
      "source": [
        "import numpy as np\n",
        "import seaborn as sns\n",
        "import matplotlib.pyplot as plt\n",
        "from sklearn.metrics import confusion_matrix\n",
        "\n",
        "label_map = {\n",
        "    'LABEL_0': 'World',\n",
        "    'LABEL_1': 'Sports',\n",
        "    'LABEL_2': 'Business',\n",
        "    'LABEL_3': 'Sci/Tech'\n",
        "}\n",
        "\n",
        "cm = confusion_matrix(predictions.label_ids, preds)\n",
        "\n",
        "# label_map to labels\n",
        "labels = [label_map[f'LABEL_{i}'] for i in range(len(label_map))]\n",
        "\n",
        "# Confusion Matrix\n",
        "sns.heatmap(cm, annot=True, fmt='d', cmap='Blues', xticklabels=labels, yticklabels=labels)\n",
        "plt.xlabel('Predicted labels')\n",
        "plt.ylabel('True labels')\n",
        "plt.title('Confusion Matrix with Label Names')\n",
        "plt.show()"
      ]
    },
    {
      "cell_type": "markdown",
      "id": "lzODnANSf3yb",
      "metadata": {
        "id": "lzODnANSf3yb"
      },
      "source": [
        "### Confusion Matrix\n",
        "\n",
        "Another way to closely examine classification performance is through the Confusion Matrix. The Confusion Matrix is a highly useful tool for evaluating the performance of models in classification problems. It visually represents the accuracy of predictions by basing on the actual and the model-predicted classes. The matrix is structured with actual classes as rows and predicted classes as columns, where the value in each cell represents the number of samples belonging to the corresponding class combination.\n",
        "\n",
        "The principal diagonal of the Confusion Matrix (diagonal from the top left to the bottom right) represents the cases where the model has made correct predictions, i.e., True Positives (TP) and True Negatives (TN). In contrast, the off-diagonal elements represent errors: False Positives (FP) indicate cases where the model incorrectly predicted a negative class as positive, and False Negatives (FN) indicate cases where the model incorrectly predicted a positive class as negative.\n",
        "\n",
        "Through the Confusion Matrix, not only the accuracy but also other important performance metrics such as Precision, Recall, and F1 score can be calculated. These metrics offer a more detailed evaluation of the model's performance and are particularly helpful in understanding the performance of models on imbalanced datasets."
      ]
    },
    {
      "cell_type": "markdown",
      "id": "481fe08b-55c3-46ce-8d85-f492840f5df5",
      "metadata": {
        "id": "481fe08b-55c3-46ce-8d85-f492840f5df5"
      },
      "source": [
        "### Topic Prediction"
      ]
    },
    {
      "cell_type": "code",
      "execution_count": 23,
      "id": "a157bf03-29bb-40e6-9844-8d70e509a857",
      "metadata": {
        "id": "a157bf03-29bb-40e6-9844-8d70e509a857"
      },
      "outputs": [],
      "source": [
        "# Example sentence\n",
        "sentence = \"The stock market is reaching new heights.\"\n",
        "\n",
        "# Tokenize the sentence\n",
        "inputs = tokenizer(sentence, padding=True, truncation=True, max_length=512, return_tensors=\"pt\")"
      ]
    },
    {
      "cell_type": "markdown",
      "id": "6153653a-7773-4e28-a4be-d7d18032251f",
      "metadata": {
        "id": "6153653a-7773-4e28-a4be-d7d18032251f"
      },
      "source": [
        "Make a Prediction"
      ]
    },
    {
      "cell_type": "code",
      "source": [
        "import torch\n",
        "from transformers import pipeline"
      ],
      "metadata": {
        "id": "iRRlt325VXOJ"
      },
      "id": "iRRlt325VXOJ",
      "execution_count": 24,
      "outputs": []
    },
    {
      "cell_type": "code",
      "execution_count": 25,
      "id": "23acccd6-9b13-4b44-afee-f63580f01cf7",
      "metadata": {
        "id": "23acccd6-9b13-4b44-afee-f63580f01cf7",
        "colab": {
          "base_uri": "https://localhost:8080/"
        },
        "outputId": "67bc17a5-5ed0-449a-b356-bbfd3109a7f8"
      },
      "outputs": [
        {
          "output_type": "stream",
          "name": "stdout",
          "text": [
            "Sentence: 'The stock market is reaching new heights.'\n",
            "Predicted Label: 'Business'\n"
          ]
        }
      ],
      "source": [
        "\n",
        "# Move inputs to the same device as the model\n",
        "inputs = {k: v.to(model.device) for k, v in inputs.items()}\n",
        "\n",
        "# Make prediction\n",
        "model.eval()  # Set the model to evaluation mode\n",
        "with torch.no_grad():\n",
        "    outputs = model(**inputs)\n",
        "    predictions = outputs.logits.argmax(-1).item()  # Get the predicted class (index)\n",
        "\n",
        "# Map the prediction index to the class name (if you have a label map)\n",
        "simple_label_map = {0: \"World\", 1: \"Sports\", 2: \"Business\", 3: \"Sci/Tech\"}\n",
        "predicted_label = simple_label_map[predictions]\n",
        "\n",
        "print(f\"Sentence: '{sentence}'\")\n",
        "print(f\"Predicted Label: '{predicted_label}'\")"
      ]
    },
    {
      "cell_type": "markdown",
      "id": "5dfadced-72e1-4ccb-a44e-ef531db77abf",
      "metadata": {
        "id": "5dfadced-72e1-4ccb-a44e-ef531db77abf"
      },
      "source": [
        "Or you can use huggingface's pipeline"
      ]
    },
    {
      "cell_type": "code",
      "execution_count": 26,
      "id": "17b2d66d-dc2c-4855-ba99-fc2941785b90",
      "metadata": {
        "id": "17b2d66d-dc2c-4855-ba99-fc2941785b90"
      },
      "outputs": [],
      "source": [
        "\n",
        "# Specify the path to your fine-tuned model or use a pre-trained model from the Hugging Face Model Hub\n",
        "model_path = './bert-topic-cls'  # Change this to your model's path or a Hugging Face model name\n",
        "\n",
        "# Load the pipeline for text classification\n",
        "classifier = pipeline(\"text-classification\", model=model_path, tokenizer=model_path)"
      ]
    },
    {
      "cell_type": "code",
      "execution_count": 27,
      "id": "2c730bc0-59ff-4bde-9121-50fa1bf17497",
      "metadata": {
        "id": "2c730bc0-59ff-4bde-9121-50fa1bf17497",
        "colab": {
          "base_uri": "https://localhost:8080/"
        },
        "outputId": "848a6a46-aa64-4e29-9bab-d303ce42aa42"
      },
      "outputs": [
        {
          "output_type": "stream",
          "name": "stdout",
          "text": [
            "Sentence: 'The stock market is reaching new heights.'\n",
            "Predicted Label: 'Business' with score 0.9894\n",
            "\n",
            "Sentence: 'The new sports car has been unveiled at the auto show.'\n",
            "Predicted Label: 'Business' with score 0.8611\n",
            "\n",
            "Sentence: 'The tech company announced its latest gadget yesterday.'\n",
            "Predicted Label: 'Sci/Tech' with score 0.9323\n",
            "\n"
          ]
        }
      ],
      "source": [
        "# Example sentences\n",
        "sentences = [\n",
        "    \"The stock market is reaching new heights.\",\n",
        "    \"The new sports car has been unveiled at the auto show.\",\n",
        "    \"The tech company announced its latest gadget yesterday.\"\n",
        "]\n",
        "\n",
        "# Make predictions\n",
        "predictions = classifier(sentences)\n",
        "\n",
        "# Print the predictions using the label map\n",
        "for sentence, prediction in zip(sentences, predictions):\n",
        "    # Map the predicted label to the actual class name\n",
        "    class_name = label_map[prediction['label']]\n",
        "    print(f\"Sentence: '{sentence}'\")\n",
        "    print(f\"Predicted Label: '{class_name}' with score {prediction['score']:.4f}\\n\")"
      ]
    },
    {
      "cell_type": "code",
      "source": [
        "# World: \"The United Nations convened for a global summit on climate change.\"\n",
        "# Sports: \"The national soccer team won the championship after a thrilling overtime.\"\n",
        "# Business: \"The company's quarterly earnings report exceeded market expectations.\"\n",
        "# Sci/Tech: \"Researchers discovered a new method for efficient solar energy conversion.\"\n",
        "# World: \"Political tensions escalated between neighboring countries over border disputes.\"\n",
        "# Sports: \"A new world record was set in the men's 100-meter sprint at the Olympics.\"\n",
        "# Business: \"The startup secured a record-breaking investment from venture capitalists.\"\n",
        "# Sci/Tech: \"Scientists published findings on the potential benefits of gene-editing technology.\"\n",
        "# World: \"The humanitarian crisis in war-torn regions worsened despite international aid efforts.\"\n",
        "# Sports: \"The tennis prodigy clinched victory in a grueling five-set match at Wimbledon.\""
      ],
      "metadata": {
        "id": "oE9Lp53ujILa"
      },
      "id": "oE9Lp53ujILa",
      "execution_count": null,
      "outputs": []
    },
    {
      "cell_type": "code",
      "source": [
        "# Example sentences\n",
        "sentences = [\n",
        "    \"The United Nations convened for a global summit on climate change.\",\n",
        "    \"The national soccer team won the championship after a thrilling overtime.\",\n",
        "    \"The company's quarterly earnings report exceeded market expectations.\",\n",
        "    \"Researchers discovered a new method for efficient solar energy conversion.\",\n",
        "    \"Political tensions escalated between neighboring countries over border disputes.\",\n",
        "    \"A new world record was set in the men's 100-meter sprint at the Olympics.\",\n",
        "    \"The startup secured a record-breaking investment from venture capitalists.\",\n",
        "    \"Scientists published findings on the potential benefits of gene-editing technology.\",\n",
        "    \"The humanitarian crisis in war-torn regions worsened despite international aid efforts.\",\n",
        "    \"The tennis prodigy clinched victory in a grueling five-set match at Wimbledon.\"\n",
        "]\n",
        "\n",
        "# Make predictions\n",
        "predictions = classifier(sentences)\n",
        "\n",
        "# Print the predictions using the label map\n",
        "for sentence, prediction in zip(sentences, predictions):\n",
        "    # Map the predicted label to the actual class name\n",
        "    class_name = label_map[prediction['label']]\n",
        "    print(f\"Sentence: '{sentence}'\")\n",
        "    print(f\"Predicted Label: '{class_name}' with score {prediction['score']:.4f}\\n\")"
      ],
      "metadata": {
        "colab": {
          "base_uri": "https://localhost:8080/"
        },
        "id": "pAFvyIf4VaRa",
        "outputId": "0d86a0fb-3df6-49cc-9873-127fbbfc19c3"
      },
      "id": "pAFvyIf4VaRa",
      "execution_count": 28,
      "outputs": [
        {
          "output_type": "stream",
          "name": "stdout",
          "text": [
            "Sentence: 'The United Nations convened for a global summit on climate change.'\n",
            "Predicted Label: 'Sci/Tech' with score 0.9712\n",
            "\n",
            "Sentence: 'The national soccer team won the championship after a thrilling overtime.'\n",
            "Predicted Label: 'Sports' with score 0.9938\n",
            "\n",
            "Sentence: 'The company's quarterly earnings report exceeded market expectations.'\n",
            "Predicted Label: 'Business' with score 0.9920\n",
            "\n",
            "Sentence: 'Researchers discovered a new method for efficient solar energy conversion.'\n",
            "Predicted Label: 'Sci/Tech' with score 0.9626\n",
            "\n",
            "Sentence: 'Political tensions escalated between neighboring countries over border disputes.'\n",
            "Predicted Label: 'World' with score 0.9924\n",
            "\n",
            "Sentence: 'A new world record was set in the men's 100-meter sprint at the Olympics.'\n",
            "Predicted Label: 'Sports' with score 0.9802\n",
            "\n",
            "Sentence: 'The startup secured a record-breaking investment from venture capitalists.'\n",
            "Predicted Label: 'Business' with score 0.8794\n",
            "\n",
            "Sentence: 'Scientists published findings on the potential benefits of gene-editing technology.'\n",
            "Predicted Label: 'Sci/Tech' with score 0.9731\n",
            "\n",
            "Sentence: 'The humanitarian crisis in war-torn regions worsened despite international aid efforts.'\n",
            "Predicted Label: 'World' with score 0.9902\n",
            "\n",
            "Sentence: 'The tennis prodigy clinched victory in a grueling five-set match at Wimbledon.'\n",
            "Predicted Label: 'Sports' with score 0.9842\n",
            "\n"
          ]
        }
      ]
    },
    {
      "cell_type": "code",
      "source": [],
      "metadata": {
        "id": "gqj15j_SVaOn"
      },
      "id": "gqj15j_SVaOn",
      "execution_count": null,
      "outputs": []
    }
  ],
  "metadata": {
    "accelerator": "GPU",
    "colab": {
      "gpuType": "T4",
      "provenance": [],
      "include_colab_link": true
    },
    "kernelspec": {
      "display_name": "Python 3",
      "name": "python3"
    },
    "language_info": {
      "name": "python"
    },
    "widgets": {
      "application/vnd.jupyter.widget-state+json": {
        "86a9d6af703f49a4b260916e48cc5581": {
          "model_module": "@jupyter-widgets/controls",
          "model_name": "HBoxModel",
          "model_module_version": "1.5.0",
          "state": {
            "_dom_classes": [],
            "_model_module": "@jupyter-widgets/controls",
            "_model_module_version": "1.5.0",
            "_model_name": "HBoxModel",
            "_view_count": null,
            "_view_module": "@jupyter-widgets/controls",
            "_view_module_version": "1.5.0",
            "_view_name": "HBoxView",
            "box_style": "",
            "children": [
              "IPY_MODEL_099886c243684a43afffd965580be60f",
              "IPY_MODEL_3d2f1358564147d9a16727ab62960fbc",
              "IPY_MODEL_771d134abfb94083bbb09f4c7ae629d1"
            ],
            "layout": "IPY_MODEL_8cac1aef62344d54ad390e9e9edd691e"
          }
        },
        "099886c243684a43afffd965580be60f": {
          "model_module": "@jupyter-widgets/controls",
          "model_name": "HTMLModel",
          "model_module_version": "1.5.0",
          "state": {
            "_dom_classes": [],
            "_model_module": "@jupyter-widgets/controls",
            "_model_module_version": "1.5.0",
            "_model_name": "HTMLModel",
            "_view_count": null,
            "_view_module": "@jupyter-widgets/controls",
            "_view_module_version": "1.5.0",
            "_view_name": "HTMLView",
            "description": "",
            "description_tooltip": null,
            "layout": "IPY_MODEL_bff17e545a0748d5b30cd7bf46fe47d8",
            "placeholder": "​",
            "style": "IPY_MODEL_d20fca95050044c7a7f097f53b16db22",
            "value": "Map: 100%"
          }
        },
        "3d2f1358564147d9a16727ab62960fbc": {
          "model_module": "@jupyter-widgets/controls",
          "model_name": "FloatProgressModel",
          "model_module_version": "1.5.0",
          "state": {
            "_dom_classes": [],
            "_model_module": "@jupyter-widgets/controls",
            "_model_module_version": "1.5.0",
            "_model_name": "FloatProgressModel",
            "_view_count": null,
            "_view_module": "@jupyter-widgets/controls",
            "_view_module_version": "1.5.0",
            "_view_name": "ProgressView",
            "bar_style": "success",
            "description": "",
            "description_tooltip": null,
            "layout": "IPY_MODEL_64bcda0cfcfe4a818c71316d26ff6b1f",
            "max": 36000,
            "min": 0,
            "orientation": "horizontal",
            "style": "IPY_MODEL_f3b664e7fa90484b994f536f0f2bf821",
            "value": 36000
          }
        },
        "771d134abfb94083bbb09f4c7ae629d1": {
          "model_module": "@jupyter-widgets/controls",
          "model_name": "HTMLModel",
          "model_module_version": "1.5.0",
          "state": {
            "_dom_classes": [],
            "_model_module": "@jupyter-widgets/controls",
            "_model_module_version": "1.5.0",
            "_model_name": "HTMLModel",
            "_view_count": null,
            "_view_module": "@jupyter-widgets/controls",
            "_view_module_version": "1.5.0",
            "_view_name": "HTMLView",
            "description": "",
            "description_tooltip": null,
            "layout": "IPY_MODEL_d55b0aca2887433c819dbc95c487218b",
            "placeholder": "​",
            "style": "IPY_MODEL_40bede16cf044a86b012141800fbf453",
            "value": " 36000/36000 [00:40&lt;00:00, 983.38 examples/s]"
          }
        },
        "8cac1aef62344d54ad390e9e9edd691e": {
          "model_module": "@jupyter-widgets/base",
          "model_name": "LayoutModel",
          "model_module_version": "1.2.0",
          "state": {
            "_model_module": "@jupyter-widgets/base",
            "_model_module_version": "1.2.0",
            "_model_name": "LayoutModel",
            "_view_count": null,
            "_view_module": "@jupyter-widgets/base",
            "_view_module_version": "1.2.0",
            "_view_name": "LayoutView",
            "align_content": null,
            "align_items": null,
            "align_self": null,
            "border": null,
            "bottom": null,
            "display": null,
            "flex": null,
            "flex_flow": null,
            "grid_area": null,
            "grid_auto_columns": null,
            "grid_auto_flow": null,
            "grid_auto_rows": null,
            "grid_column": null,
            "grid_gap": null,
            "grid_row": null,
            "grid_template_areas": null,
            "grid_template_columns": null,
            "grid_template_rows": null,
            "height": null,
            "justify_content": null,
            "justify_items": null,
            "left": null,
            "margin": null,
            "max_height": null,
            "max_width": null,
            "min_height": null,
            "min_width": null,
            "object_fit": null,
            "object_position": null,
            "order": null,
            "overflow": null,
            "overflow_x": null,
            "overflow_y": null,
            "padding": null,
            "right": null,
            "top": null,
            "visibility": null,
            "width": null
          }
        },
        "bff17e545a0748d5b30cd7bf46fe47d8": {
          "model_module": "@jupyter-widgets/base",
          "model_name": "LayoutModel",
          "model_module_version": "1.2.0",
          "state": {
            "_model_module": "@jupyter-widgets/base",
            "_model_module_version": "1.2.0",
            "_model_name": "LayoutModel",
            "_view_count": null,
            "_view_module": "@jupyter-widgets/base",
            "_view_module_version": "1.2.0",
            "_view_name": "LayoutView",
            "align_content": null,
            "align_items": null,
            "align_self": null,
            "border": null,
            "bottom": null,
            "display": null,
            "flex": null,
            "flex_flow": null,
            "grid_area": null,
            "grid_auto_columns": null,
            "grid_auto_flow": null,
            "grid_auto_rows": null,
            "grid_column": null,
            "grid_gap": null,
            "grid_row": null,
            "grid_template_areas": null,
            "grid_template_columns": null,
            "grid_template_rows": null,
            "height": null,
            "justify_content": null,
            "justify_items": null,
            "left": null,
            "margin": null,
            "max_height": null,
            "max_width": null,
            "min_height": null,
            "min_width": null,
            "object_fit": null,
            "object_position": null,
            "order": null,
            "overflow": null,
            "overflow_x": null,
            "overflow_y": null,
            "padding": null,
            "right": null,
            "top": null,
            "visibility": null,
            "width": null
          }
        },
        "d20fca95050044c7a7f097f53b16db22": {
          "model_module": "@jupyter-widgets/controls",
          "model_name": "DescriptionStyleModel",
          "model_module_version": "1.5.0",
          "state": {
            "_model_module": "@jupyter-widgets/controls",
            "_model_module_version": "1.5.0",
            "_model_name": "DescriptionStyleModel",
            "_view_count": null,
            "_view_module": "@jupyter-widgets/base",
            "_view_module_version": "1.2.0",
            "_view_name": "StyleView",
            "description_width": ""
          }
        },
        "64bcda0cfcfe4a818c71316d26ff6b1f": {
          "model_module": "@jupyter-widgets/base",
          "model_name": "LayoutModel",
          "model_module_version": "1.2.0",
          "state": {
            "_model_module": "@jupyter-widgets/base",
            "_model_module_version": "1.2.0",
            "_model_name": "LayoutModel",
            "_view_count": null,
            "_view_module": "@jupyter-widgets/base",
            "_view_module_version": "1.2.0",
            "_view_name": "LayoutView",
            "align_content": null,
            "align_items": null,
            "align_self": null,
            "border": null,
            "bottom": null,
            "display": null,
            "flex": null,
            "flex_flow": null,
            "grid_area": null,
            "grid_auto_columns": null,
            "grid_auto_flow": null,
            "grid_auto_rows": null,
            "grid_column": null,
            "grid_gap": null,
            "grid_row": null,
            "grid_template_areas": null,
            "grid_template_columns": null,
            "grid_template_rows": null,
            "height": null,
            "justify_content": null,
            "justify_items": null,
            "left": null,
            "margin": null,
            "max_height": null,
            "max_width": null,
            "min_height": null,
            "min_width": null,
            "object_fit": null,
            "object_position": null,
            "order": null,
            "overflow": null,
            "overflow_x": null,
            "overflow_y": null,
            "padding": null,
            "right": null,
            "top": null,
            "visibility": null,
            "width": null
          }
        },
        "f3b664e7fa90484b994f536f0f2bf821": {
          "model_module": "@jupyter-widgets/controls",
          "model_name": "ProgressStyleModel",
          "model_module_version": "1.5.0",
          "state": {
            "_model_module": "@jupyter-widgets/controls",
            "_model_module_version": "1.5.0",
            "_model_name": "ProgressStyleModel",
            "_view_count": null,
            "_view_module": "@jupyter-widgets/base",
            "_view_module_version": "1.2.0",
            "_view_name": "StyleView",
            "bar_color": null,
            "description_width": ""
          }
        },
        "d55b0aca2887433c819dbc95c487218b": {
          "model_module": "@jupyter-widgets/base",
          "model_name": "LayoutModel",
          "model_module_version": "1.2.0",
          "state": {
            "_model_module": "@jupyter-widgets/base",
            "_model_module_version": "1.2.0",
            "_model_name": "LayoutModel",
            "_view_count": null,
            "_view_module": "@jupyter-widgets/base",
            "_view_module_version": "1.2.0",
            "_view_name": "LayoutView",
            "align_content": null,
            "align_items": null,
            "align_self": null,
            "border": null,
            "bottom": null,
            "display": null,
            "flex": null,
            "flex_flow": null,
            "grid_area": null,
            "grid_auto_columns": null,
            "grid_auto_flow": null,
            "grid_auto_rows": null,
            "grid_column": null,
            "grid_gap": null,
            "grid_row": null,
            "grid_template_areas": null,
            "grid_template_columns": null,
            "grid_template_rows": null,
            "height": null,
            "justify_content": null,
            "justify_items": null,
            "left": null,
            "margin": null,
            "max_height": null,
            "max_width": null,
            "min_height": null,
            "min_width": null,
            "object_fit": null,
            "object_position": null,
            "order": null,
            "overflow": null,
            "overflow_x": null,
            "overflow_y": null,
            "padding": null,
            "right": null,
            "top": null,
            "visibility": null,
            "width": null
          }
        },
        "40bede16cf044a86b012141800fbf453": {
          "model_module": "@jupyter-widgets/controls",
          "model_name": "DescriptionStyleModel",
          "model_module_version": "1.5.0",
          "state": {
            "_model_module": "@jupyter-widgets/controls",
            "_model_module_version": "1.5.0",
            "_model_name": "DescriptionStyleModel",
            "_view_count": null,
            "_view_module": "@jupyter-widgets/base",
            "_view_module_version": "1.2.0",
            "_view_name": "StyleView",
            "description_width": ""
          }
        },
        "77c9bed96fad4057969a89e9f014575b": {
          "model_module": "@jupyter-widgets/controls",
          "model_name": "HBoxModel",
          "model_module_version": "1.5.0",
          "state": {
            "_dom_classes": [],
            "_model_module": "@jupyter-widgets/controls",
            "_model_module_version": "1.5.0",
            "_model_name": "HBoxModel",
            "_view_count": null,
            "_view_module": "@jupyter-widgets/controls",
            "_view_module_version": "1.5.0",
            "_view_name": "HBoxView",
            "box_style": "",
            "children": [
              "IPY_MODEL_98448c41962844b09ec8303cf2af1000",
              "IPY_MODEL_d69e3527f2c4423ea86aacf151675baa",
              "IPY_MODEL_50a731f7f2a04f96a63452e906d2f61c"
            ],
            "layout": "IPY_MODEL_d5acbf29fdf04397993b9a75b99f4cac"
          }
        },
        "98448c41962844b09ec8303cf2af1000": {
          "model_module": "@jupyter-widgets/controls",
          "model_name": "HTMLModel",
          "model_module_version": "1.5.0",
          "state": {
            "_dom_classes": [],
            "_model_module": "@jupyter-widgets/controls",
            "_model_module_version": "1.5.0",
            "_model_name": "HTMLModel",
            "_view_count": null,
            "_view_module": "@jupyter-widgets/controls",
            "_view_module_version": "1.5.0",
            "_view_name": "HTMLView",
            "description": "",
            "description_tooltip": null,
            "layout": "IPY_MODEL_e8d872dd0f21499385a5f63a6aa5b2ac",
            "placeholder": "​",
            "style": "IPY_MODEL_d0cb7a09f5cb4a6a9f40d1a30e6b6c3c",
            "value": "Map: 100%"
          }
        },
        "d69e3527f2c4423ea86aacf151675baa": {
          "model_module": "@jupyter-widgets/controls",
          "model_name": "FloatProgressModel",
          "model_module_version": "1.5.0",
          "state": {
            "_dom_classes": [],
            "_model_module": "@jupyter-widgets/controls",
            "_model_module_version": "1.5.0",
            "_model_name": "FloatProgressModel",
            "_view_count": null,
            "_view_module": "@jupyter-widgets/controls",
            "_view_module_version": "1.5.0",
            "_view_name": "ProgressView",
            "bar_style": "success",
            "description": "",
            "description_tooltip": null,
            "layout": "IPY_MODEL_dd963cff56d345b1856991338baf93f1",
            "max": 2280,
            "min": 0,
            "orientation": "horizontal",
            "style": "IPY_MODEL_56bc8411368741d9a6c8a670e65f0866",
            "value": 2280
          }
        },
        "50a731f7f2a04f96a63452e906d2f61c": {
          "model_module": "@jupyter-widgets/controls",
          "model_name": "HTMLModel",
          "model_module_version": "1.5.0",
          "state": {
            "_dom_classes": [],
            "_model_module": "@jupyter-widgets/controls",
            "_model_module_version": "1.5.0",
            "_model_name": "HTMLModel",
            "_view_count": null,
            "_view_module": "@jupyter-widgets/controls",
            "_view_module_version": "1.5.0",
            "_view_name": "HTMLView",
            "description": "",
            "description_tooltip": null,
            "layout": "IPY_MODEL_43c2129f78d64b36b50c8a2ed5fdec80",
            "placeholder": "​",
            "style": "IPY_MODEL_991aeec6c0ed4674b752d3ffad3b9e1c",
            "value": " 2280/2280 [00:03&lt;00:00, 665.40 examples/s]"
          }
        },
        "d5acbf29fdf04397993b9a75b99f4cac": {
          "model_module": "@jupyter-widgets/base",
          "model_name": "LayoutModel",
          "model_module_version": "1.2.0",
          "state": {
            "_model_module": "@jupyter-widgets/base",
            "_model_module_version": "1.2.0",
            "_model_name": "LayoutModel",
            "_view_count": null,
            "_view_module": "@jupyter-widgets/base",
            "_view_module_version": "1.2.0",
            "_view_name": "LayoutView",
            "align_content": null,
            "align_items": null,
            "align_self": null,
            "border": null,
            "bottom": null,
            "display": null,
            "flex": null,
            "flex_flow": null,
            "grid_area": null,
            "grid_auto_columns": null,
            "grid_auto_flow": null,
            "grid_auto_rows": null,
            "grid_column": null,
            "grid_gap": null,
            "grid_row": null,
            "grid_template_areas": null,
            "grid_template_columns": null,
            "grid_template_rows": null,
            "height": null,
            "justify_content": null,
            "justify_items": null,
            "left": null,
            "margin": null,
            "max_height": null,
            "max_width": null,
            "min_height": null,
            "min_width": null,
            "object_fit": null,
            "object_position": null,
            "order": null,
            "overflow": null,
            "overflow_x": null,
            "overflow_y": null,
            "padding": null,
            "right": null,
            "top": null,
            "visibility": null,
            "width": null
          }
        },
        "e8d872dd0f21499385a5f63a6aa5b2ac": {
          "model_module": "@jupyter-widgets/base",
          "model_name": "LayoutModel",
          "model_module_version": "1.2.0",
          "state": {
            "_model_module": "@jupyter-widgets/base",
            "_model_module_version": "1.2.0",
            "_model_name": "LayoutModel",
            "_view_count": null,
            "_view_module": "@jupyter-widgets/base",
            "_view_module_version": "1.2.0",
            "_view_name": "LayoutView",
            "align_content": null,
            "align_items": null,
            "align_self": null,
            "border": null,
            "bottom": null,
            "display": null,
            "flex": null,
            "flex_flow": null,
            "grid_area": null,
            "grid_auto_columns": null,
            "grid_auto_flow": null,
            "grid_auto_rows": null,
            "grid_column": null,
            "grid_gap": null,
            "grid_row": null,
            "grid_template_areas": null,
            "grid_template_columns": null,
            "grid_template_rows": null,
            "height": null,
            "justify_content": null,
            "justify_items": null,
            "left": null,
            "margin": null,
            "max_height": null,
            "max_width": null,
            "min_height": null,
            "min_width": null,
            "object_fit": null,
            "object_position": null,
            "order": null,
            "overflow": null,
            "overflow_x": null,
            "overflow_y": null,
            "padding": null,
            "right": null,
            "top": null,
            "visibility": null,
            "width": null
          }
        },
        "d0cb7a09f5cb4a6a9f40d1a30e6b6c3c": {
          "model_module": "@jupyter-widgets/controls",
          "model_name": "DescriptionStyleModel",
          "model_module_version": "1.5.0",
          "state": {
            "_model_module": "@jupyter-widgets/controls",
            "_model_module_version": "1.5.0",
            "_model_name": "DescriptionStyleModel",
            "_view_count": null,
            "_view_module": "@jupyter-widgets/base",
            "_view_module_version": "1.2.0",
            "_view_name": "StyleView",
            "description_width": ""
          }
        },
        "dd963cff56d345b1856991338baf93f1": {
          "model_module": "@jupyter-widgets/base",
          "model_name": "LayoutModel",
          "model_module_version": "1.2.0",
          "state": {
            "_model_module": "@jupyter-widgets/base",
            "_model_module_version": "1.2.0",
            "_model_name": "LayoutModel",
            "_view_count": null,
            "_view_module": "@jupyter-widgets/base",
            "_view_module_version": "1.2.0",
            "_view_name": "LayoutView",
            "align_content": null,
            "align_items": null,
            "align_self": null,
            "border": null,
            "bottom": null,
            "display": null,
            "flex": null,
            "flex_flow": null,
            "grid_area": null,
            "grid_auto_columns": null,
            "grid_auto_flow": null,
            "grid_auto_rows": null,
            "grid_column": null,
            "grid_gap": null,
            "grid_row": null,
            "grid_template_areas": null,
            "grid_template_columns": null,
            "grid_template_rows": null,
            "height": null,
            "justify_content": null,
            "justify_items": null,
            "left": null,
            "margin": null,
            "max_height": null,
            "max_width": null,
            "min_height": null,
            "min_width": null,
            "object_fit": null,
            "object_position": null,
            "order": null,
            "overflow": null,
            "overflow_x": null,
            "overflow_y": null,
            "padding": null,
            "right": null,
            "top": null,
            "visibility": null,
            "width": null
          }
        },
        "56bc8411368741d9a6c8a670e65f0866": {
          "model_module": "@jupyter-widgets/controls",
          "model_name": "ProgressStyleModel",
          "model_module_version": "1.5.0",
          "state": {
            "_model_module": "@jupyter-widgets/controls",
            "_model_module_version": "1.5.0",
            "_model_name": "ProgressStyleModel",
            "_view_count": null,
            "_view_module": "@jupyter-widgets/base",
            "_view_module_version": "1.2.0",
            "_view_name": "StyleView",
            "bar_color": null,
            "description_width": ""
          }
        },
        "43c2129f78d64b36b50c8a2ed5fdec80": {
          "model_module": "@jupyter-widgets/base",
          "model_name": "LayoutModel",
          "model_module_version": "1.2.0",
          "state": {
            "_model_module": "@jupyter-widgets/base",
            "_model_module_version": "1.2.0",
            "_model_name": "LayoutModel",
            "_view_count": null,
            "_view_module": "@jupyter-widgets/base",
            "_view_module_version": "1.2.0",
            "_view_name": "LayoutView",
            "align_content": null,
            "align_items": null,
            "align_self": null,
            "border": null,
            "bottom": null,
            "display": null,
            "flex": null,
            "flex_flow": null,
            "grid_area": null,
            "grid_auto_columns": null,
            "grid_auto_flow": null,
            "grid_auto_rows": null,
            "grid_column": null,
            "grid_gap": null,
            "grid_row": null,
            "grid_template_areas": null,
            "grid_template_columns": null,
            "grid_template_rows": null,
            "height": null,
            "justify_content": null,
            "justify_items": null,
            "left": null,
            "margin": null,
            "max_height": null,
            "max_width": null,
            "min_height": null,
            "min_width": null,
            "object_fit": null,
            "object_position": null,
            "order": null,
            "overflow": null,
            "overflow_x": null,
            "overflow_y": null,
            "padding": null,
            "right": null,
            "top": null,
            "visibility": null,
            "width": null
          }
        },
        "991aeec6c0ed4674b752d3ffad3b9e1c": {
          "model_module": "@jupyter-widgets/controls",
          "model_name": "DescriptionStyleModel",
          "model_module_version": "1.5.0",
          "state": {
            "_model_module": "@jupyter-widgets/controls",
            "_model_module_version": "1.5.0",
            "_model_name": "DescriptionStyleModel",
            "_view_count": null,
            "_view_module": "@jupyter-widgets/base",
            "_view_module_version": "1.2.0",
            "_view_name": "StyleView",
            "description_width": ""
          }
        }
      }
    }
  },
  "nbformat": 4,
  "nbformat_minor": 5
}